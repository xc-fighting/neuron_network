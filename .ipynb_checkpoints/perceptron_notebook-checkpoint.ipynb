{
 "cells": [
  {
   "cell_type": "code",
   "execution_count": 12,
   "id": "788d97cb",
   "metadata": {},
   "outputs": [],
   "source": [
    "import matplotlib.pyplot as plt\n",
    "import numpy as np"
   ]
  },
  {
   "cell_type": "code",
   "execution_count": 13,
   "id": "ea996e51",
   "metadata": {},
   "outputs": [],
   "source": [
    "lines = None\n",
    "with open('./data.csv') as f:\n",
    "    lines = f.readlines()\n",
    "x = []\n",
    "y = []\n",
    "flag = []\n",
    "for line in lines:\n",
    "    arr = line.split(',')\n",
    "    x.append(float(arr[0]))\n",
    "    y.append(float(arr[1]))\n",
    "    flag.append(float(arr[2]))\n",
    "#print(x)\n",
    "    "
   ]
  },
  {
   "cell_type": "code",
   "execution_count": 14,
   "id": "5422b69f",
   "metadata": {},
   "outputs": [
    {
     "ename": "NameError",
     "evalue": "name 'canddiate_bias' is not defined",
     "output_type": "error",
     "traceback": [
      "\u001b[0;31m---------------------------------------------------------------------------\u001b[0m",
      "\u001b[0;31mNameError\u001b[0m                                 Traceback (most recent call last)",
      "Cell \u001b[0;32mIn [14], line 32\u001b[0m\n\u001b[1;32m     30\u001b[0m         candidate_w2 \u001b[38;5;241m=\u001b[39m w2\n\u001b[1;32m     31\u001b[0m         candidate_bias \u001b[38;5;241m=\u001b[39m bias\n\u001b[0;32m---> 32\u001b[0m \u001b[38;5;28mprint\u001b[39m(\u001b[38;5;124m\"\u001b[39m\u001b[38;5;132;01m{}\u001b[39;00m\u001b[38;5;124m \u001b[39m\u001b[38;5;132;01m{}\u001b[39;00m\u001b[38;5;124m \u001b[39m\u001b[38;5;132;01m{}\u001b[39;00m\u001b[38;5;124m\"\u001b[39m\u001b[38;5;241m.\u001b[39mformat(candidate_w1, candidate_w2, \u001b[43mcanddiate_bias\u001b[49m))\n\u001b[1;32m     33\u001b[0m \u001b[38;5;28mprint\u001b[39m(\u001b[38;5;124m\"\u001b[39m\u001b[38;5;124merror:\u001b[39m\u001b[38;5;124m\"\u001b[39m \u001b[38;5;241m+\u001b[39m candidate_error)        \n\u001b[1;32m     34\u001b[0m line_x \u001b[38;5;241m=\u001b[39m [\u001b[38;5;241m0\u001b[39m, \u001b[38;5;241m-\u001b[39m(candidate_bias\u001b[38;5;241m/\u001b[39mcandidate_w2)]\n",
      "\u001b[0;31mNameError\u001b[0m: name 'canddiate_bias' is not defined"
     ]
    },
    {
     "data": {
      "image/png": "[encoded data removed]",
      "text/plain": [
       "<Figure size 640x480 with 1 Axes>"
      ]
     },
     "metadata": {},
     "output_type": "display_data"
    }
   ],
   "source": [
    "size = len(x)\n",
    "for idx in range(size):\n",
    "    pos_x = x[idx]\n",
    "    pos_y = y[idx]\n",
    "    flag_val = flag[idx]\n",
    "    #print(\"{} {} {}\".format(pos_x, pos_y, flag_val))\n",
    "    if flag_val == 1.0:\n",
    "        plt.scatter(pos_x, pos_y, color='green')\n",
    "    else:\n",
    "        plt.scatter(pos_x, pos_y, color='blue')\n",
    "\n",
    "historys = None\n",
    "with open('./model.txt') as fp:\n",
    "    historys = fp.readlines()\n",
    "    \n",
    "candidate_error = 65535\n",
    "candidate_w1 = -1\n",
    "candidate_w2 = -1\n",
    "candidate_bias = -1\n",
    "\n",
    "for history in historys:\n",
    "    arr = history.split(',')\n",
    "    w1 = float(arr[0])\n",
    "    w2 = float(arr[1])\n",
    "    bias = float(arr[2])\n",
    "    error = int(arr[3])\n",
    "    if error < candidate_error:\n",
    "        candidate_error = error\n",
    "        candidate_w1 = w1\n",
    "        candidate_w2 = w2\n",
    "        candidate_bias = bias\n",
    "        \n",
    "print(\"{} {} {}\".format(candidate_w1, candidate_w2, candidate_bias))\n",
    "print(\"error:\" + candidate_error)        \n",
    "line_x = [0, -(candidate_bias/candidate_w2)]\n",
    "print(\"point1:\" + line_x)\n",
    "line_y = [-(candidate_bias/candidate_w1), 0]\n",
    "print(\"point2:\" + line_y)\n",
    "plt.plot(line_x, line_y)\n",
    "plt.show()"
   ]
  },
  {
   "cell_type": "code",
   "execution_count": null,
   "id": "be18d28f",
   "metadata": {},
   "outputs": [],
   "source": []
  },
  {
   "cell_type": "code",
   "execution_count": null,
   "id": "e05f1018",
   "metadata": {},
   "outputs": [],
   "source": []
  }
 ],
 "metadata": {
  "kernelspec": {
   "display_name": "Python 3 (ipykernel)",
   "language": "python",
   "name": "python3"
  },
  "language_info": {
   "codemirror_mode": {
    "name": "ipython",
    "version": 3
   },
   "file_extension": ".py",
   "mimetype": "text/x-python",
   "name": "python",
   "nbconvert_exporter": "python",
   "pygments_lexer": "ipython3",
   "version": "3.8.3"
  }
 },
 "nbformat": 4,
 "nbformat_minor": 5
}
