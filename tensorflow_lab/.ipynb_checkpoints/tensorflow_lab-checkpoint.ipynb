{
 "cells": [
  {
   "cell_type": "code",
   "execution_count": 54,
   "id": "2f7d950a",
   "metadata": {},
   "outputs": [],
   "source": [
    "import tensorflow as tf\n",
    "import pandas as pd\n",
    "import numpy as np\n",
    "from matplotlib import pyplot as plt"
   ]
  },
  {
   "cell_type": "code",
   "execution_count": 55,
   "id": "fed4fe8f",
   "metadata": {},
   "outputs": [],
   "source": [
    "# load the data\n",
    "train_df = pd.read_csv('./california_housing_train.csv')\n",
    "test_df = pd.read_csv('./california_housing_test.csv')\n"
   ]
  },
  {
   "cell_type": "code",
   "execution_count": 56,
   "id": "f209dae3",
   "metadata": {},
   "outputs": [],
   "source": [
    "# scale the values \n",
    "scale_factor = 1000.0\n",
    "train_df['median_house_value'] /= scale_factor\n",
    "test_df['median_house_value'] /= scale_factor\n"
   ]
  },
  {
   "cell_type": "code",
   "execution_count": 57,
   "id": "c4a6f36d",
   "metadata": {},
   "outputs": [
    {
     "name": "stdout",
     "output_type": "stream",
     "text": [
      "Defined the build_model and train_model functions\n"
     ]
    }
   ],
   "source": [
    "# build the model\n",
    "def build_model(learning_rate):\n",
    "    model = tf.keras.models.Sequential()\n",
    "    model.add(tf.keras.layers.Dense(units=1, input_shape=(1,)))\n",
    "    model.compile(optimizer=tf.keras.optimizers.RMSprop(lr=learning_rate),\n",
    "                 loss='mean_squared_error',\n",
    "                 metrics=[tf.keras.metrics.RootMeanSquaredError()])\n",
    "    return model\n",
    "\n",
    "def train_model(model, df, feature, label, my_epochs,\n",
    "               my_batch_size=None, my_validation_split=0.1):\n",
    "    history = model.fit(x=df[feature], y=df[label],\n",
    "                        batch_size=my_batch_size,\n",
    "                        epochs=my_epochs,\n",
    "                        validation_split=my_validation_split)\n",
    "    trained_weight = model.get_weights()[0]\n",
    "    trained_bias = model.get_weights()[1]\n",
    "    print(str(trained_weight) + \"->\" + str(trained_bias))\n",
    "    \n",
    "    epochs = history.epoch\n",
    "    \n",
    "    hist = pd.DataFrame(history.history)\n",
    "    rmse = hist['root_mean_squared_error']\n",
    "    return epochs, rmse, history.history\n",
    "\n",
    "print('Defined the build_model and train_model functions')"
   ]
  },
  {
   "cell_type": "code",
   "execution_count": 58,
   "id": "0bd7c77a",
   "metadata": {},
   "outputs": [
    {
     "name": "stdout",
     "output_type": "stream",
     "text": [
      "define the plot function\n"
     ]
    }
   ],
   "source": [
    "def plot_the_loss(epochs, mae_training, mae_validation):\n",
    "    plt.figure()\n",
    "    plt.xlabel('Epoch')\n",
    "    plt.ylabel('Root Mean Squared Error')\n",
    "    \n",
    "    plt.plot(epochs[1:], mae_training[1:], label='Training loss')\n",
    "    plt.plot(epochs[1:], mae_validation[1:], label='Validation loss')\n",
    "    plt.legend()\n",
    "    \n",
    "    merged_mae_lists = mae_training[1:] + mae_validation[1:]\n",
    "    highest_loss = max(merged_mae_lists)\n",
    "    lowest_loss = min(merged_mae_lists)\n",
    "    delta = highest_loss - lowest_loss\n",
    "    \n",
    "    top_y_axis = highest_loss + (delta * 0.05)\n",
    "    bottom_y_axis = lowest_loss - (delta * 0.05)\n",
    "    \n",
    "    plt.ylim([bottom_y_axis, top_y_axis])\n",
    "    plt.show()\n",
    "    \n",
    "print(\"define the plot function\")"
   ]
  },
  {
   "cell_type": "code",
   "execution_count": 59,
   "id": "95edc124",
   "metadata": {},
   "outputs": [
    {
     "name": "stderr",
     "output_type": "stream",
     "text": [
      "WARNING:absl:`lr` is deprecated, please use `learning_rate` instead, or use the legacy optimizer, e.g.,tf.keras.optimizers.legacy.RMSprop.\n"
     ]
    },
    {
     "name": "stdout",
     "output_type": "stream",
     "text": [
      "Epoch 1/30\n",
      "136/136 [==============================] - 0s 2ms/step - loss: 49886.9023 - root_mean_squared_error: 223.3538 - val_loss: 74960.7734 - val_root_mean_squared_error: 273.7896\n",
      "Epoch 2/30\n",
      "136/136 [==============================] - 0s 1ms/step - loss: 49596.4922 - root_mean_squared_error: 222.7027 - val_loss: 74571.3281 - val_root_mean_squared_error: 273.0775\n",
      "Epoch 3/30\n",
      "136/136 [==============================] - 0s 1ms/step - loss: 49306.9141 - root_mean_squared_error: 222.0516 - val_loss: 74182.0078 - val_root_mean_squared_error: 272.3637\n",
      "Epoch 4/30\n",
      "136/136 [==============================] - 0s 1ms/step - loss: 49017.2891 - root_mean_squared_error: 221.3985 - val_loss: 73794.4531 - val_root_mean_squared_error: 271.6513\n",
      "Epoch 5/30\n",
      "136/136 [==============================] - 0s 1ms/step - loss: 48731.5625 - root_mean_squared_error: 220.7523 - val_loss: 73408.8438 - val_root_mean_squared_error: 270.9407\n",
      "Epoch 6/30\n",
      "136/136 [==============================] - 0s 1ms/step - loss: 48444.6602 - root_mean_squared_error: 220.1015 - val_loss: 73023.6406 - val_root_mean_squared_error: 270.2289\n",
      "Epoch 7/30\n",
      "136/136 [==============================] - 0s 1ms/step - loss: 48160.1758 - root_mean_squared_error: 219.4543 - val_loss: 72639.5781 - val_root_mean_squared_error: 269.5173\n",
      "Epoch 8/30\n",
      "136/136 [==============================] - 0s 1ms/step - loss: 47875.5547 - root_mean_squared_error: 218.8048 - val_loss: 72256.1562 - val_root_mean_squared_error: 268.8051\n",
      "Epoch 9/30\n",
      "136/136 [==============================] - 0s 1ms/step - loss: 47592.4766 - root_mean_squared_error: 218.1570 - val_loss: 71875.6484 - val_root_mean_squared_error: 268.0963\n",
      "Epoch 10/30\n",
      "136/136 [==============================] - 0s 1ms/step - loss: 47310.8438 - root_mean_squared_error: 217.5106 - val_loss: 71494.7422 - val_root_mean_squared_error: 267.3850\n",
      "Epoch 11/30\n",
      "136/136 [==============================] - 0s 1ms/step - loss: 47029.2969 - root_mean_squared_error: 216.8624 - val_loss: 71114.6719 - val_root_mean_squared_error: 266.6733\n",
      "Epoch 12/30\n",
      "136/136 [==============================] - 0s 1ms/step - loss: 46749.8789 - root_mean_squared_error: 216.2172 - val_loss: 70737.8281 - val_root_mean_squared_error: 265.9659\n",
      "Epoch 13/30\n",
      "136/136 [==============================] - 0s 1ms/step - loss: 46471.5703 - root_mean_squared_error: 215.5727 - val_loss: 70361.0938 - val_root_mean_squared_error: 265.2567\n",
      "Epoch 14/30\n",
      "136/136 [==============================] - 0s 1ms/step - loss: 46192.3516 - root_mean_squared_error: 214.9241 - val_loss: 69984.0234 - val_root_mean_squared_error: 264.5449\n",
      "Epoch 15/30\n",
      "136/136 [==============================] - 0s 1ms/step - loss: 45914.5820 - root_mean_squared_error: 214.2769 - val_loss: 69608.7266 - val_root_mean_squared_error: 263.8347\n",
      "Epoch 16/30\n",
      "136/136 [==============================] - 0s 1ms/step - loss: 45638.1992 - root_mean_squared_error: 213.6310 - val_loss: 69235.9609 - val_root_mean_squared_error: 263.1273\n",
      "Epoch 17/30\n",
      "136/136 [==============================] - 0s 1ms/step - loss: 45362.1367 - root_mean_squared_error: 212.9839 - val_loss: 68862.5938 - val_root_mean_squared_error: 262.4168\n",
      "Epoch 18/30\n",
      "136/136 [==============================] - 0s 1ms/step - loss: 45089.5391 - root_mean_squared_error: 212.3430 - val_loss: 68492.2188 - val_root_mean_squared_error: 261.7102\n",
      "Epoch 19/30\n",
      "136/136 [==============================] - 0s 1ms/step - loss: 44814.4531 - root_mean_squared_error: 211.6942 - val_loss: 68121.9453 - val_root_mean_squared_error: 261.0018\n",
      "Epoch 20/30\n",
      "136/136 [==============================] - 0s 1ms/step - loss: 44542.3984 - root_mean_squared_error: 211.0507 - val_loss: 67752.2891 - val_root_mean_squared_error: 260.2927\n",
      "Epoch 21/30\n",
      "136/136 [==============================] - 0s 1ms/step - loss: 44272.3984 - root_mean_squared_error: 210.4101 - val_loss: 67385.9766 - val_root_mean_squared_error: 259.5881\n",
      "Epoch 22/30\n",
      "136/136 [==============================] - 0s 1ms/step - loss: 44000.6719 - root_mean_squared_error: 209.7634 - val_loss: 67019.1875 - val_root_mean_squared_error: 258.8806\n",
      "Epoch 23/30\n",
      "136/136 [==============================] - 0s 1ms/step - loss: 43732.4062 - root_mean_squared_error: 209.1229 - val_loss: 66653.5547 - val_root_mean_squared_error: 258.1735\n",
      "Epoch 24/30\n",
      "136/136 [==============================] - 0s 1ms/step - loss: 43463.6953 - root_mean_squared_error: 208.4795 - val_loss: 66289.0625 - val_root_mean_squared_error: 257.4666\n",
      "Epoch 25/30\n",
      "136/136 [==============================] - 0s 1ms/step - loss: 43196.4102 - root_mean_squared_error: 207.8375 - val_loss: 65926.2266 - val_root_mean_squared_error: 256.7610\n",
      "Epoch 26/30\n",
      "136/136 [==============================] - 0s 1ms/step - loss: 42929.0195 - root_mean_squared_error: 207.1932 - val_loss: 65563.3516 - val_root_mean_squared_error: 256.0534\n",
      "Epoch 27/30\n",
      "136/136 [==============================] - 0s 1ms/step - loss: 42664.0430 - root_mean_squared_error: 206.5528 - val_loss: 65201.5156 - val_root_mean_squared_error: 255.3459\n",
      "Epoch 28/30\n",
      "136/136 [==============================] - 0s 1ms/step - loss: 42398.8438 - root_mean_squared_error: 205.9098 - val_loss: 64842.9414 - val_root_mean_squared_error: 254.6428\n",
      "Epoch 29/30\n",
      "136/136 [==============================] - 0s 1ms/step - loss: 42134.3242 - root_mean_squared_error: 205.2665 - val_loss: 64482.6523 - val_root_mean_squared_error: 253.9343\n",
      "Epoch 30/30\n",
      "136/136 [==============================] - 0s 1ms/step - loss: 41873.0586 - root_mean_squared_error: 204.6291 - val_loss: 64126.6406 - val_root_mean_squared_error: 253.2324\n"
     ]
    },
    {
     "ename": "UFuncTypeError",
     "evalue": "ufunc 'add' did not contain a loop with signature matching types (dtype('float32'), dtype('<U2')) -> None",
     "output_type": "error",
     "traceback": [
      "\u001b[0;31m---------------------------------------------------------------------------\u001b[0m",
      "\u001b[0;31mUFuncTypeError\u001b[0m                            Traceback (most recent call last)",
      "Cell \u001b[0;32mIn [59], line 11\u001b[0m\n\u001b[1;32m      8\u001b[0m my_label \u001b[38;5;241m=\u001b[39m \u001b[38;5;124m'\u001b[39m\u001b[38;5;124mmedian_house_value\u001b[39m\u001b[38;5;124m'\u001b[39m\n\u001b[1;32m     10\u001b[0m my_model \u001b[38;5;241m=\u001b[39m build_model(learning_rate)\n\u001b[0;32m---> 11\u001b[0m epochs, rmse, history \u001b[38;5;241m=\u001b[39m \u001b[43mtrain_model\u001b[49m\u001b[43m(\u001b[49m\u001b[43mmy_model\u001b[49m\u001b[43m,\u001b[49m\u001b[43m \u001b[49m\u001b[43mtrain_df\u001b[49m\u001b[43m,\u001b[49m\u001b[43m \u001b[49m\u001b[43mmy_feature\u001b[49m\u001b[43m,\u001b[49m\n\u001b[1;32m     12\u001b[0m \u001b[43m                                    \u001b[49m\u001b[43mmy_label\u001b[49m\u001b[43m,\u001b[49m\u001b[43m \u001b[49m\u001b[43mepochs\u001b[49m\u001b[43m,\u001b[49m\u001b[43m \u001b[49m\u001b[43mbatch_size\u001b[49m\u001b[43m,\u001b[49m\n\u001b[1;32m     13\u001b[0m \u001b[43m                                    \u001b[49m\u001b[43mvalidation_split\u001b[49m\u001b[43m)\u001b[49m\n\u001b[1;32m     14\u001b[0m plot_the_loss(epochs, history[\u001b[38;5;124m\"\u001b[39m\u001b[38;5;124mroot_mean_squared_error\u001b[39m\u001b[38;5;124m\"\u001b[39m],\n\u001b[1;32m     15\u001b[0m               history[\u001b[38;5;124m'\u001b[39m\u001b[38;5;124mval_root_mean_squared_error\u001b[39m\u001b[38;5;124m'\u001b[39m])\n",
      "Cell \u001b[0;32mIn [57], line 18\u001b[0m, in \u001b[0;36mtrain_model\u001b[0;34m(model, df, feature, label, my_epochs, my_batch_size, my_validation_split)\u001b[0m\n\u001b[1;32m     16\u001b[0m trained_weight \u001b[38;5;241m=\u001b[39m model\u001b[38;5;241m.\u001b[39mget_weights()[\u001b[38;5;241m0\u001b[39m]\n\u001b[1;32m     17\u001b[0m trained_bias \u001b[38;5;241m=\u001b[39m model\u001b[38;5;241m.\u001b[39mget_weights()[\u001b[38;5;241m1\u001b[39m]\n\u001b[0;32m---> 18\u001b[0m \u001b[38;5;28mprint\u001b[39m(\u001b[43mtrained_weight\u001b[49m\u001b[43m \u001b[49m\u001b[38;5;241;43m+\u001b[39;49m\u001b[43m \u001b[49m\u001b[38;5;124;43m\"\u001b[39;49m\u001b[38;5;124;43m->\u001b[39;49m\u001b[38;5;124;43m\"\u001b[39;49m \u001b[38;5;241m+\u001b[39m trained_bias)\n\u001b[1;32m     20\u001b[0m epochs \u001b[38;5;241m=\u001b[39m history\u001b[38;5;241m.\u001b[39mepoch\n\u001b[1;32m     22\u001b[0m hist \u001b[38;5;241m=\u001b[39m pd\u001b[38;5;241m.\u001b[39mDataFrame(history\u001b[38;5;241m.\u001b[39mhistory)\n",
      "\u001b[0;31mUFuncTypeError\u001b[0m: ufunc 'add' did not contain a loop with signature matching types (dtype('float32'), dtype('<U2')) -> None"
     ]
    }
   ],
   "source": [
    "learning_rate = 0.08\n",
    "epochs = 30\n",
    "batch_size = 100\n",
    "\n",
    "validation_split = 0.2\n",
    "\n",
    "my_feature = 'median_income'\n",
    "my_label = 'median_house_value'\n",
    "\n",
    "my_model = build_model(learning_rate)\n",
    "epochs, rmse, history = train_model(my_model, train_df, my_feature,\n",
    "                                    my_label, epochs, batch_size,\n",
    "                                    validation_split)\n",
    "plot_the_loss(epochs, history[\"root_mean_squared_error\"],\n",
    "              history['val_root_mean_squared_error'])\n"
   ]
  },
  {
   "cell_type": "code",
   "execution_count": null,
   "id": "4d933a4f",
   "metadata": {},
   "outputs": [],
   "source": []
  }
 ],
 "metadata": {
  "kernelspec": {
   "display_name": "Python 3 (ipykernel)",
   "language": "python",
   "name": "python3"
  },
  "language_info": {
   "codemirror_mode": {
    "name": "ipython",
    "version": 3
   },
   "file_extension": ".py",
   "mimetype": "text/x-python",
   "name": "python",
   "nbconvert_exporter": "python",
   "pygments_lexer": "ipython3",
   "version": "3.8.3"
  }
 },
 "nbformat": 4,
 "nbformat_minor": 5
}
