{
 "cells": [
  {
   "cell_type": "code",
   "execution_count": 60,
   "id": "2f7d950a",
   "metadata": {},
   "outputs": [],
   "source": [
    "import tensorflow as tf\n",
    "import pandas as pd\n",
    "import numpy as np\n",
    "from matplotlib import pyplot as plt"
   ]
  },
  {
   "cell_type": "code",
   "execution_count": 61,
   "id": "fed4fe8f",
   "metadata": {},
   "outputs": [],
   "source": [
    "# load the data\n",
    "train_df = pd.read_csv('./california_housing_train.csv')\n",
    "test_df = pd.read_csv('./california_housing_test.csv')\n"
   ]
  },
  {
   "cell_type": "code",
   "execution_count": 62,
   "id": "f209dae3",
   "metadata": {},
   "outputs": [],
   "source": [
    "# scale the values \n",
    "scale_factor = 1000.0\n",
    "train_df['median_house_value'] /= scale_factor\n",
    "test_df['median_house_value'] /= scale_factor\n"
   ]
  },
  {
   "cell_type": "code",
   "execution_count": 63,
   "id": "c4a6f36d",
   "metadata": {},
   "outputs": [
    {
     "name": "stdout",
     "output_type": "stream",
     "text": [
      "Defined the build_model and train_model functions\n"
     ]
    }
   ],
   "source": [
    "# build the model\n",
    "def build_model(learning_rate):\n",
    "    model = tf.keras.models.Sequential()\n",
    "    model.add(tf.keras.layers.Dense(units=1, input_shape=(1,)))\n",
    "    model.compile(optimizer=tf.keras.optimizers.RMSprop(lr=learning_rate),\n",
    "                 loss='mean_squared_error',\n",
    "                 metrics=[tf.keras.metrics.RootMeanSquaredError()])\n",
    "    return model\n",
    "\n",
    "def train_model(model, df, feature, label, my_epochs,\n",
    "               my_batch_size=None, my_validation_split=0.1):\n",
    "    history = model.fit(x=df[feature], y=df[label],\n",
    "                        batch_size=my_batch_size,\n",
    "                        epochs=my_epochs,\n",
    "                        validation_split=my_validation_split)\n",
    "    trained_weight = model.get_weights()[0]\n",
    "    trained_bias = model.get_weights()[1]\n",
    "    print(str(trained_weight) + \"->\" + str(trained_bias))\n",
    "    \n",
    "    epochs = history.epoch\n",
    "    \n",
    "    hist = pd.DataFrame(history.history)\n",
    "    rmse = hist['root_mean_squared_error']\n",
    "    return epochs, rmse, history.history\n",
    "\n",
    "print('Defined the build_model and train_model functions')"
   ]
  },
  {
   "cell_type": "code",
   "execution_count": 64,
   "id": "0bd7c77a",
   "metadata": {},
   "outputs": [
    {
     "name": "stdout",
     "output_type": "stream",
     "text": [
      "define the plot function\n"
     ]
    }
   ],
   "source": [
    "def plot_the_loss(epochs, mae_training, mae_validation):\n",
    "    plt.figure()\n",
    "    plt.xlabel('Epoch')\n",
    "    plt.ylabel('Root Mean Squared Error')\n",
    "    \n",
    "    plt.plot(epochs[1:], mae_training[1:], label='Training loss')\n",
    "    plt.plot(epochs[1:], mae_validation[1:], label='Validation loss')\n",
    "    plt.legend()\n",
    "    \n",
    "    merged_mae_lists = mae_training[1:] + mae_validation[1:]\n",
    "    highest_loss = max(merged_mae_lists)\n",
    "    lowest_loss = min(merged_mae_lists)\n",
    "    delta = highest_loss - lowest_loss\n",
    "    \n",
    "    top_y_axis = highest_loss + (delta * 0.05)\n",
    "    bottom_y_axis = lowest_loss - (delta * 0.05)\n",
    "    \n",
    "    plt.ylim([bottom_y_axis, top_y_axis])\n",
    "    plt.show()\n",
    "    \n",
    "print(\"define the plot function\")"
   ]
  },
  {
   "cell_type": "code",
   "execution_count": 65,
   "id": "95edc124",
   "metadata": {},
   "outputs": [
    {
     "name": "stderr",
     "output_type": "stream",
     "text": [
      "WARNING:absl:`lr` is deprecated, please use `learning_rate` instead, or use the legacy optimizer, e.g.,tf.keras.optimizers.legacy.RMSprop.\n"
     ]
    },
    {
     "name": "stdout",
     "output_type": "stream",
     "text": [
      "Epoch 1/30\n",
      "136/136 [==============================] - 1s 2ms/step - loss: 49021.0664 - root_mean_squared_error: 221.4070 - val_loss: 73777.9766 - val_root_mean_squared_error: 271.6210\n",
      "Epoch 2/30\n",
      "136/136 [==============================] - 0s 1ms/step - loss: 48733.5938 - root_mean_squared_error: 220.7569 - val_loss: 73392.6562 - val_root_mean_squared_error: 270.9108\n",
      "Epoch 3/30\n",
      "136/136 [==============================] - 0s 1ms/step - loss: 48447.5625 - root_mean_squared_error: 220.1081 - val_loss: 73008.0078 - val_root_mean_squared_error: 270.1999\n",
      "Epoch 4/30\n",
      "136/136 [==============================] - 0s 1ms/step - loss: 48161.6836 - root_mean_squared_error: 219.4577 - val_loss: 72622.7500 - val_root_mean_squared_error: 269.4861\n",
      "Epoch 5/30\n",
      "136/136 [==============================] - 0s 1ms/step - loss: 47878.2148 - root_mean_squared_error: 218.8109 - val_loss: 72241.6250 - val_root_mean_squared_error: 268.7780\n",
      "Epoch 6/30\n",
      "136/136 [==============================] - 0s 1ms/step - loss: 47594.6758 - root_mean_squared_error: 218.1620 - val_loss: 71859.6719 - val_root_mean_squared_error: 268.0666\n",
      "Epoch 7/30\n",
      "136/136 [==============================] - 0s 1ms/step - loss: 47311.3867 - root_mean_squared_error: 217.5118 - val_loss: 71478.5938 - val_root_mean_squared_error: 267.3548\n",
      "Epoch 8/30\n",
      "136/136 [==============================] - 0s 1ms/step - loss: 47030.9258 - root_mean_squared_error: 216.8661 - val_loss: 71099.2422 - val_root_mean_squared_error: 266.6444\n",
      "Epoch 9/30\n",
      "136/136 [==============================] - 0s 1ms/step - loss: 46749.9805 - root_mean_squared_error: 216.2174 - val_loss: 70720.5625 - val_root_mean_squared_error: 265.9334\n",
      "Epoch 10/30\n",
      "136/136 [==============================] - 0s 1ms/step - loss: 46471.0742 - root_mean_squared_error: 215.5715 - val_loss: 70343.7891 - val_root_mean_squared_error: 265.2240\n",
      "Epoch 11/30\n",
      "136/136 [==============================] - 0s 1ms/step - loss: 46191.7070 - root_mean_squared_error: 214.9226 - val_loss: 69967.2734 - val_root_mean_squared_error: 264.5133\n",
      "Epoch 12/30\n",
      "136/136 [==============================] - 0s 1ms/step - loss: 45916.1562 - root_mean_squared_error: 214.2805 - val_loss: 69593.4688 - val_root_mean_squared_error: 263.8058\n",
      "Epoch 13/30\n",
      "136/136 [==============================] - 0s 1ms/step - loss: 45638.8086 - root_mean_squared_error: 213.6324 - val_loss: 69219.3906 - val_root_mean_squared_error: 263.0958\n",
      "Epoch 14/30\n",
      "136/136 [==============================] - 0s 1ms/step - loss: 45364.1641 - root_mean_squared_error: 212.9886 - val_loss: 68846.5938 - val_root_mean_squared_error: 262.3864\n",
      "Epoch 15/30\n",
      "136/136 [==============================] - 0s 1ms/step - loss: 45089.2734 - root_mean_squared_error: 212.3423 - val_loss: 68475.8906 - val_root_mean_squared_error: 261.6790\n",
      "Epoch 16/30\n",
      "136/136 [==============================] - 0s 1ms/step - loss: 44815.1797 - root_mean_squared_error: 211.6960 - val_loss: 68105.3750 - val_root_mean_squared_error: 260.9701\n",
      "Epoch 17/30\n",
      "136/136 [==============================] - 0s 1ms/step - loss: 44543.0430 - root_mean_squared_error: 211.0522 - val_loss: 67736.3125 - val_root_mean_squared_error: 260.2620\n",
      "Epoch 18/30\n",
      "136/136 [==============================] - 0s 1ms/step - loss: 44272.8789 - root_mean_squared_error: 210.4112 - val_loss: 67369.9766 - val_root_mean_squared_error: 259.5573\n",
      "Epoch 19/30\n",
      "136/136 [==============================] - 0s 1ms/step - loss: 44001.9297 - root_mean_squared_error: 209.7664 - val_loss: 67003.0938 - val_root_mean_squared_error: 258.8495\n",
      "Epoch 20/30\n",
      "136/136 [==============================] - 0s 1ms/step - loss: 43733.1953 - root_mean_squared_error: 209.1248 - val_loss: 66637.3750 - val_root_mean_squared_error: 258.1422\n",
      "Epoch 21/30\n",
      "136/136 [==============================] - 0s 1ms/step - loss: 43464.5469 - root_mean_squared_error: 208.4815 - val_loss: 66272.7656 - val_root_mean_squared_error: 257.4350\n",
      "Epoch 22/30\n",
      "136/136 [==============================] - 0s 1ms/step - loss: 43196.8086 - root_mean_squared_error: 207.8384 - val_loss: 65909.5547 - val_root_mean_squared_error: 256.7286\n",
      "Epoch 23/30\n",
      "136/136 [==============================] - 0s 1ms/step - loss: 42928.7070 - root_mean_squared_error: 207.1924 - val_loss: 65546.7578 - val_root_mean_squared_error: 256.0210\n",
      "Epoch 24/30\n",
      "136/136 [==============================] - 0s 2ms/step - loss: 42664.1367 - root_mean_squared_error: 206.5530 - val_loss: 65186.1875 - val_root_mean_squared_error: 255.3159\n",
      "Epoch 25/30\n",
      "136/136 [==============================] - 0s 1ms/step - loss: 42400.0391 - root_mean_squared_error: 205.9127 - val_loss: 64826.8828 - val_root_mean_squared_error: 254.6112\n",
      "Epoch 26/30\n",
      "136/136 [==============================] - 0s 1ms/step - loss: 42135.9492 - root_mean_squared_error: 205.2704 - val_loss: 64468.3672 - val_root_mean_squared_error: 253.9062\n",
      "Epoch 27/30\n",
      "136/136 [==============================] - 0s 1ms/step - loss: 41873.8125 - root_mean_squared_error: 204.6309 - val_loss: 64110.6914 - val_root_mean_squared_error: 253.2009\n",
      "Epoch 28/30\n",
      "136/136 [==============================] - 0s 1ms/step - loss: 41610.7344 - root_mean_squared_error: 203.9871 - val_loss: 63754.1133 - val_root_mean_squared_error: 252.4958\n",
      "Epoch 29/30\n",
      "136/136 [==============================] - 0s 1ms/step - loss: 41350.6172 - root_mean_squared_error: 203.3485 - val_loss: 63398.2383 - val_root_mean_squared_error: 251.7901\n",
      "Epoch 30/30\n",
      "136/136 [==============================] - 0s 1ms/step - loss: 41091.3594 - root_mean_squared_error: 202.7100 - val_loss: 63045.1016 - val_root_mean_squared_error: 251.0878\n",
      "[[5.2461495]]->[4.0808086]\n"
     ]
    },
    {
     "data": {
      "image/png": "[encoded data removed]",
      "text/plain": [
       "<Figure size 640x480 with 1 Axes>"
      ]
     },
     "metadata": {},
     "output_type": "display_data"
    }
   ],
   "source": [
    "learning_rate = 0.08\n",
    "epochs = 30\n",
    "batch_size = 100\n",
    "\n",
    "validation_split = 0.2\n",
    "\n",
    "my_feature = 'median_income'\n",
    "my_label = 'median_house_value'\n",
    "\n",
    "my_model = build_model(learning_rate)\n",
    "epochs, rmse, history = train_model(my_model, train_df, my_feature,\n",
    "                                    my_label, epochs, batch_size,\n",
    "                                    validation_split)\n",
    "plot_the_loss(epochs, history[\"root_mean_squared_error\"],\n",
    "              history['val_root_mean_squared_error'])\n"
   ]
  },
  {
   "cell_type": "code",
   "execution_count": null,
   "id": "4d933a4f",
   "metadata": {},
   "outputs": [],
   "source": []
  }
 ],
 "metadata": {
  "kernelspec": {
   "display_name": "Python 3 (ipykernel)",
   "language": "python",
   "name": "python3"
  },
  "language_info": {
   "codemirror_mode": {
    "name": "ipython",
    "version": 3
   },
   "file_extension": ".py",
   "mimetype": "text/x-python",
   "name": "python",
   "nbconvert_exporter": "python",
   "pygments_lexer": "ipython3",
   "version": "3.8.3"
  }
 },
 "nbformat": 4,
 "nbformat_minor": 5
}
